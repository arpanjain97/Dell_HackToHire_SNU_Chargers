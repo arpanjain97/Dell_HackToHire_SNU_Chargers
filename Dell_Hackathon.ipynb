{
 "cells": [
  {
   "cell_type": "code",
   "execution_count": 31,
   "metadata": {},
   "outputs": [],
   "source": [
    "import pandas as pd\n",
    "import datetime as dt\n",
    "import numpy as np\n",
    "import matplotlib.pyplot as plt\n",
    "from sklearn import cluster\n",
    "import matplotlib.pyplot as plt  \n",
    "%matplotlib inline\n",
    "import numpy as np  \n",
    "from sklearn.cluster import KMeans  "
   ]
  },
  {
   "cell_type": "code",
   "execution_count": 2,
   "metadata": {},
   "outputs": [],
   "source": [
    "df1=pd.read_csv('test2.csv')"
   ]
  },
  {
   "cell_type": "code",
   "execution_count": 3,
   "metadata": {},
   "outputs": [
    {
     "name": "stdout",
     "output_type": "stream",
     "text": [
      "<class 'pandas.core.frame.DataFrame'>\n",
      "RangeIndex: 4222 entries, 0 to 4221\n",
      "Data columns (total 5 columns):\n",
      "Unnamed: 0     4222 non-null int64\n",
      "Customer_ID    4222 non-null int64\n",
      "Date           4222 non-null object\n",
      "Amount         4222 non-null int64\n",
      "frequency      4222 non-null int64\n",
      "dtypes: int64(4), object(1)\n",
      "memory usage: 165.0+ KB\n"
     ]
    }
   ],
   "source": [
    "df1.info()"
   ]
  },
  {
   "cell_type": "code",
   "execution_count": 4,
   "metadata": {},
   "outputs": [],
   "source": [
    "df1['Date'] = pd.to_datetime(df1['Date'])"
   ]
  },
  {
   "cell_type": "code",
   "execution_count": 5,
   "metadata": {},
   "outputs": [
    {
     "name": "stdout",
     "output_type": "stream",
     "text": [
      "<class 'pandas.core.frame.DataFrame'>\n",
      "RangeIndex: 4222 entries, 0 to 4221\n",
      "Data columns (total 5 columns):\n",
      "Unnamed: 0     4222 non-null int64\n",
      "Customer_ID    4222 non-null int64\n",
      "Date           4222 non-null datetime64[ns]\n",
      "Amount         4222 non-null int64\n",
      "frequency      4222 non-null int64\n",
      "dtypes: datetime64[ns](1), int64(4)\n",
      "memory usage: 165.0 KB\n"
     ]
    }
   ],
   "source": [
    "df2=df1\n",
    "df2.info()"
   ]
  },
  {
   "cell_type": "code",
   "execution_count": 6,
   "metadata": {},
   "outputs": [],
   "source": [
    "sd = dt.datetime(2018,12,31)"
   ]
  },
  {
   "cell_type": "code",
   "execution_count": 7,
   "metadata": {},
   "outputs": [
    {
     "data": {
      "text/html": [
       "<div>\n",
       "<style scoped>\n",
       "    .dataframe tbody tr th:only-of-type {\n",
       "        vertical-align: middle;\n",
       "    }\n",
       "\n",
       "    .dataframe tbody tr th {\n",
       "        vertical-align: top;\n",
       "    }\n",
       "\n",
       "    .dataframe thead th {\n",
       "        text-align: right;\n",
       "    }\n",
       "</style>\n",
       "<table border=\"1\" class=\"dataframe\">\n",
       "  <thead>\n",
       "    <tr style=\"text-align: right;\">\n",
       "      <th></th>\n",
       "      <th>Unnamed: 0</th>\n",
       "      <th>Customer_ID</th>\n",
       "      <th>Date</th>\n",
       "      <th>Amount</th>\n",
       "      <th>frequency</th>\n",
       "      <th>hist</th>\n",
       "    </tr>\n",
       "  </thead>\n",
       "  <tbody>\n",
       "    <tr>\n",
       "      <th>0</th>\n",
       "      <td>1</td>\n",
       "      <td>5496</td>\n",
       "      <td>2018-08-01</td>\n",
       "      <td>176688</td>\n",
       "      <td>4</td>\n",
       "      <td>152.0</td>\n",
       "    </tr>\n",
       "    <tr>\n",
       "      <th>1</th>\n",
       "      <td>2</td>\n",
       "      <td>5497</td>\n",
       "      <td>2018-09-01</td>\n",
       "      <td>248054</td>\n",
       "      <td>3</td>\n",
       "      <td>121.0</td>\n",
       "    </tr>\n",
       "    <tr>\n",
       "      <th>2</th>\n",
       "      <td>3</td>\n",
       "      <td>5498</td>\n",
       "      <td>2018-10-01</td>\n",
       "      <td>166980</td>\n",
       "      <td>2</td>\n",
       "      <td>91.0</td>\n",
       "    </tr>\n",
       "    <tr>\n",
       "      <th>3</th>\n",
       "      <td>4</td>\n",
       "      <td>5499</td>\n",
       "      <td>2018-11-01</td>\n",
       "      <td>227480</td>\n",
       "      <td>1</td>\n",
       "      <td>60.0</td>\n",
       "    </tr>\n",
       "    <tr>\n",
       "      <th>4</th>\n",
       "      <td>5</td>\n",
       "      <td>5500</td>\n",
       "      <td>2018-12-01</td>\n",
       "      <td>125067</td>\n",
       "      <td>2</td>\n",
       "      <td>30.0</td>\n",
       "    </tr>\n",
       "  </tbody>\n",
       "</table>\n",
       "</div>"
      ],
      "text/plain": [
       "   Unnamed: 0  Customer_ID       Date  Amount  frequency   hist\n",
       "0           1         5496 2018-08-01  176688          4  152.0\n",
       "1           2         5497 2018-09-01  248054          3  121.0\n",
       "2           3         5498 2018-10-01  166980          2   91.0\n",
       "3           4         5499 2018-11-01  227480          1   60.0\n",
       "4           5         5500 2018-12-01  125067          2   30.0"
      ]
     },
     "execution_count": 7,
     "metadata": {},
     "output_type": "execute_result"
    }
   ],
   "source": [
    "df2['hist']=sd - df2['Date']\n",
    "df2['hist'].astype('timedelta64[D]')\n",
    "df2['hist']=df2['hist'] / np.timedelta64(1, 'D')\n",
    "df2.head()"
   ]
  },
  {
   "cell_type": "code",
   "execution_count": 8,
   "metadata": {},
   "outputs": [
    {
     "data": {
      "text/plain": [
       "4"
      ]
     },
     "execution_count": 8,
     "metadata": {},
     "output_type": "execute_result"
    }
   ],
   "source": [
    "max(df2['frequency'])"
   ]
  },
  {
   "cell_type": "code",
   "execution_count": 9,
   "metadata": {},
   "outputs": [],
   "source": [
    "rfmTable = df2.groupby('Customer_ID').agg({'hist': lambda x:x.min(), # Recency\n",
    "                                        'frequency' : lambda x: x,               # Frequency\n",
    "                                        'Amount': lambda x: x.sum()})          # Monetary Value\n"
   ]
  },
  {
   "cell_type": "code",
   "execution_count": 10,
   "metadata": {},
   "outputs": [
    {
     "data": {
      "text/html": [
       "<div>\n",
       "<style scoped>\n",
       "    .dataframe tbody tr th:only-of-type {\n",
       "        vertical-align: middle;\n",
       "    }\n",
       "\n",
       "    .dataframe tbody tr th {\n",
       "        vertical-align: top;\n",
       "    }\n",
       "\n",
       "    .dataframe thead th {\n",
       "        text-align: right;\n",
       "    }\n",
       "</style>\n",
       "<table border=\"1\" class=\"dataframe\">\n",
       "  <thead>\n",
       "    <tr style=\"text-align: right;\">\n",
       "      <th></th>\n",
       "      <th>hist</th>\n",
       "      <th>frequency</th>\n",
       "      <th>Amount</th>\n",
       "    </tr>\n",
       "    <tr>\n",
       "      <th>Customer_ID</th>\n",
       "      <th></th>\n",
       "      <th></th>\n",
       "      <th></th>\n",
       "    </tr>\n",
       "  </thead>\n",
       "  <tbody>\n",
       "    <tr>\n",
       "      <th>5496</th>\n",
       "      <td>152.0</td>\n",
       "      <td>4</td>\n",
       "      <td>176688</td>\n",
       "    </tr>\n",
       "    <tr>\n",
       "      <th>5497</th>\n",
       "      <td>121.0</td>\n",
       "      <td>3</td>\n",
       "      <td>248054</td>\n",
       "    </tr>\n",
       "    <tr>\n",
       "      <th>5498</th>\n",
       "      <td>91.0</td>\n",
       "      <td>2</td>\n",
       "      <td>166980</td>\n",
       "    </tr>\n",
       "    <tr>\n",
       "      <th>5499</th>\n",
       "      <td>60.0</td>\n",
       "      <td>1</td>\n",
       "      <td>227480</td>\n",
       "    </tr>\n",
       "    <tr>\n",
       "      <th>5500</th>\n",
       "      <td>30.0</td>\n",
       "      <td>2</td>\n",
       "      <td>125067</td>\n",
       "    </tr>\n",
       "  </tbody>\n",
       "</table>\n",
       "</div>"
      ],
      "text/plain": [
       "              hist  frequency  Amount\n",
       "Customer_ID                          \n",
       "5496         152.0          4  176688\n",
       "5497         121.0          3  248054\n",
       "5498          91.0          2  166980\n",
       "5499          60.0          1  227480\n",
       "5500          30.0          2  125067"
      ]
     },
     "execution_count": 10,
     "metadata": {},
     "output_type": "execute_result"
    }
   ],
   "source": [
    "rfmTable.head()"
   ]
  },
  {
   "cell_type": "code",
   "execution_count": 15,
   "metadata": {},
   "outputs": [],
   "source": [
    "rfmTable.rename(columns={'hist': 'recent', \n",
    "                         'frequency': 'count', \n",
    "                         'Spent': 'spent'}, inplace=True)"
   ]
  },
  {
   "cell_type": "code",
   "execution_count": 16,
   "metadata": {},
   "outputs": [
    {
     "data": {
      "text/html": [
       "<div>\n",
       "<style scoped>\n",
       "    .dataframe tbody tr th:only-of-type {\n",
       "        vertical-align: middle;\n",
       "    }\n",
       "\n",
       "    .dataframe tbody tr th {\n",
       "        vertical-align: top;\n",
       "    }\n",
       "\n",
       "    .dataframe thead th {\n",
       "        text-align: right;\n",
       "    }\n",
       "</style>\n",
       "<table border=\"1\" class=\"dataframe\">\n",
       "  <thead>\n",
       "    <tr style=\"text-align: right;\">\n",
       "      <th></th>\n",
       "      <th>recent</th>\n",
       "      <th>count</th>\n",
       "      <th>spent</th>\n",
       "    </tr>\n",
       "    <tr>\n",
       "      <th>Customer_ID</th>\n",
       "      <th></th>\n",
       "      <th></th>\n",
       "      <th></th>\n",
       "    </tr>\n",
       "  </thead>\n",
       "  <tbody>\n",
       "    <tr>\n",
       "      <th>5496</th>\n",
       "      <td>152.0</td>\n",
       "      <td>4</td>\n",
       "      <td>176688</td>\n",
       "    </tr>\n",
       "    <tr>\n",
       "      <th>5497</th>\n",
       "      <td>121.0</td>\n",
       "      <td>3</td>\n",
       "      <td>248054</td>\n",
       "    </tr>\n",
       "    <tr>\n",
       "      <th>5498</th>\n",
       "      <td>91.0</td>\n",
       "      <td>2</td>\n",
       "      <td>166980</td>\n",
       "    </tr>\n",
       "    <tr>\n",
       "      <th>5499</th>\n",
       "      <td>60.0</td>\n",
       "      <td>1</td>\n",
       "      <td>227480</td>\n",
       "    </tr>\n",
       "    <tr>\n",
       "      <th>5500</th>\n",
       "      <td>30.0</td>\n",
       "      <td>2</td>\n",
       "      <td>125067</td>\n",
       "    </tr>\n",
       "  </tbody>\n",
       "</table>\n",
       "</div>"
      ],
      "text/plain": [
       "             recent  count   spent\n",
       "Customer_ID                       \n",
       "5496          152.0      4  176688\n",
       "5497          121.0      3  248054\n",
       "5498           91.0      2  166980\n",
       "5499           60.0      1  227480\n",
       "5500           30.0      2  125067"
      ]
     },
     "execution_count": 16,
     "metadata": {},
     "output_type": "execute_result"
    }
   ],
   "source": [
    "rfmTable.head()"
   ]
  },
  {
   "cell_type": "code",
   "execution_count": 17,
   "metadata": {},
   "outputs": [],
   "source": [
    "quartiles = rfmTable.quantile(q=[0.25,0.50,0.75])"
   ]
  },
  {
   "cell_type": "code",
   "execution_count": 18,
   "metadata": {},
   "outputs": [
    {
     "data": {
      "text/plain": [
       "{'count': {0.25: 1.0, 0.5: 2.0, 0.75: 3.0},\n",
       " 'recent': {0.25: 207.0, 0.5: 439.0, 0.75: 763.0},\n",
       " 'spent': {0.25: 85316.5, 0.5: 104644.5, 0.75: 129185.75}}"
      ]
     },
     "execution_count": 18,
     "metadata": {},
     "output_type": "execute_result"
    }
   ],
   "source": [
    "quartiles=quartiles.to_dict()\n",
    "quartiles"
   ]
  },
  {
   "cell_type": "code",
   "execution_count": 19,
   "metadata": {},
   "outputs": [],
   "source": [
    "def RClass(x,p,d):\n",
    "    if x <= d[p][0.25]:\n",
    "        return 1\n",
    "    elif x <= d[p][0.50]:\n",
    "        return 2\n",
    "    elif x <= d[p][0.75]: \n",
    "        return 3\n",
    "    else:\n",
    "        return 4\n",
    "    \n",
    "def FMClass(x,p,d):\n",
    "    if x <= d[p][0.25]:\n",
    "        return 4\n",
    "    elif x <= d[p][0.50]:\n",
    "        return 3\n",
    "    elif x <= d[p][0.75]: \n",
    "        return 2\n",
    "    else:\n",
    "        return 1    \n",
    "    "
   ]
  },
  {
   "cell_type": "code",
   "execution_count": 23,
   "metadata": {},
   "outputs": [],
   "source": [
    "rfmSeg = rfmTable\n",
    "rfmSeg['R_Quartile'] = rfmSeg['recent'].apply(RClass, args=('recent',quartiles,))\n",
    "rfmSeg['F_Quartile'] = rfmSeg['count'].apply(FMClass, args=('count',quartiles,))\n",
    "rfmSeg['M_Quartile'] = rfmSeg['spent'].apply(FMClass, args=('spent',quartiles,))"
   ]
  },
  {
   "cell_type": "code",
   "execution_count": 24,
   "metadata": {},
   "outputs": [],
   "source": [
    "rfmSeg['RCSClass'] = rfmSeg.R_Quartile.map(str) \\\n",
    "                            + rfmSeg.F_Quartile.map(str) \\\n",
    "                            + rfmSeg.M_Quartile.map(str)"
   ]
  },
  {
   "cell_type": "code",
   "execution_count": 53,
   "metadata": {},
   "outputs": [
    {
     "data": {
      "text/html": [
       "<div>\n",
       "<style scoped>\n",
       "    .dataframe tbody tr th:only-of-type {\n",
       "        vertical-align: middle;\n",
       "    }\n",
       "\n",
       "    .dataframe tbody tr th {\n",
       "        vertical-align: top;\n",
       "    }\n",
       "\n",
       "    .dataframe thead th {\n",
       "        text-align: right;\n",
       "    }\n",
       "</style>\n",
       "<table border=\"1\" class=\"dataframe\">\n",
       "  <thead>\n",
       "    <tr style=\"text-align: right;\">\n",
       "      <th></th>\n",
       "      <th>recent</th>\n",
       "      <th>count</th>\n",
       "      <th>spent</th>\n",
       "      <th>R_Quartile</th>\n",
       "      <th>F_Quartile</th>\n",
       "      <th>M_Quartile</th>\n",
       "      <th>RCSClass</th>\n",
       "    </tr>\n",
       "    <tr>\n",
       "      <th>Customer_ID</th>\n",
       "      <th></th>\n",
       "      <th></th>\n",
       "      <th></th>\n",
       "      <th></th>\n",
       "      <th></th>\n",
       "      <th></th>\n",
       "      <th></th>\n",
       "    </tr>\n",
       "  </thead>\n",
       "  <tbody>\n",
       "    <tr>\n",
       "      <th>5496</th>\n",
       "      <td>152.0</td>\n",
       "      <td>4</td>\n",
       "      <td>176688</td>\n",
       "      <td>1</td>\n",
       "      <td>1</td>\n",
       "      <td>1</td>\n",
       "      <td>111</td>\n",
       "    </tr>\n",
       "    <tr>\n",
       "      <th>5497</th>\n",
       "      <td>121.0</td>\n",
       "      <td>3</td>\n",
       "      <td>248054</td>\n",
       "      <td>1</td>\n",
       "      <td>2</td>\n",
       "      <td>1</td>\n",
       "      <td>121</td>\n",
       "    </tr>\n",
       "    <tr>\n",
       "      <th>5498</th>\n",
       "      <td>91.0</td>\n",
       "      <td>2</td>\n",
       "      <td>166980</td>\n",
       "      <td>1</td>\n",
       "      <td>3</td>\n",
       "      <td>1</td>\n",
       "      <td>131</td>\n",
       "    </tr>\n",
       "    <tr>\n",
       "      <th>5499</th>\n",
       "      <td>60.0</td>\n",
       "      <td>1</td>\n",
       "      <td>227480</td>\n",
       "      <td>1</td>\n",
       "      <td>4</td>\n",
       "      <td>1</td>\n",
       "      <td>141</td>\n",
       "    </tr>\n",
       "    <tr>\n",
       "      <th>5500</th>\n",
       "      <td>30.0</td>\n",
       "      <td>2</td>\n",
       "      <td>125067</td>\n",
       "      <td>1</td>\n",
       "      <td>3</td>\n",
       "      <td>2</td>\n",
       "      <td>132</td>\n",
       "    </tr>\n",
       "  </tbody>\n",
       "</table>\n",
       "</div>"
      ],
      "text/plain": [
       "             recent  count   spent  R_Quartile  F_Quartile  M_Quartile  \\\n",
       "Customer_ID                                                              \n",
       "5496          152.0      4  176688           1           1           1   \n",
       "5497          121.0      3  248054           1           2           1   \n",
       "5498           91.0      2  166980           1           3           1   \n",
       "5499           60.0      1  227480           1           4           1   \n",
       "5500           30.0      2  125067           1           3           2   \n",
       "\n",
       "            RCSClass  \n",
       "Customer_ID           \n",
       "5496             111  \n",
       "5497             121  \n",
       "5498             131  \n",
       "5499             141  \n",
       "5500             132  "
      ]
     },
     "execution_count": 53,
     "metadata": {},
     "output_type": "execute_result"
    }
   ],
   "source": [
    "rfmSeg.head()"
   ]
  },
  {
   "cell_type": "code",
   "execution_count": 56,
   "metadata": {},
   "outputs": [],
   "source": [
    "rfmSeg.to_csv('RCS_data.csv')"
   ]
  },
  {
   "cell_type": "code",
   "execution_count": 30,
   "metadata": {},
   "outputs": [
    {
     "data": {
      "text/plain": [
       "KMeans(algorithm='auto', copy_x=True, init='k-means++', max_iter=300,\n",
       "    n_clusters=6, n_init=10, n_jobs=1, precompute_distances='auto',\n",
       "    random_state=None, tol=0.0001, verbose=0)"
      ]
     },
     "execution_count": 30,
     "metadata": {},
     "output_type": "execute_result"
    }
   ],
   "source": [
    "k_means = cluster.KMeans(n_clusters=6)\n",
    "k_means.fit(rfmTable) "
   ]
  },
  {
   "cell_type": "code",
   "execution_count": 33,
   "metadata": {},
   "outputs": [
    {
     "name": "stdout",
     "output_type": "stream",
     "text": [
      "[[  3.61653631e+02   2.41340782e+00   2.34909592e+05   2.02793296e+00\n",
      "    2.58659218e+00   1.00000000e+00   2.29659218e+02]\n",
      " [  6.48593619e+02   2.47271201e+00   1.19487469e+05   3.05121746e+00\n",
      "    2.52728799e+00   1.84718724e+00   3.32241814e+02]\n",
      " [  5.04731454e+02   2.52967359e+00   1.57759399e+05   2.56528190e+00\n",
      "    2.47032641e+00   1.00000000e+00   2.82231454e+02]\n",
      " [  7.11712598e+02   2.47506562e+00   4.67582625e+04   3.28740157e+00\n",
      "    2.52493438e+00   4.00000000e+00   3.57989501e+02]\n",
      " [  2.91904762e+02   2.71428571e+00   3.89765524e+05   1.71428571e+00\n",
      "    2.28571429e+00   1.00000000e+00   1.95285714e+02]\n",
      " [  2.38374910e+02   2.48315412e+00   9.21826115e+04   1.62867384e+00\n",
      "    2.51684588e+00   3.17777778e+00   1.91213620e+02]]\n"
     ]
    }
   ],
   "source": [
    "print(k_means.cluster_centers_)  "
   ]
  },
  {
   "cell_type": "code",
   "execution_count": 38,
   "metadata": {},
   "outputs": [
    {
     "name": "stdout",
     "output_type": "stream",
     "text": [
      "(4222, 7)\n"
     ]
    }
   ],
   "source": [
    "print(rfmTable.shape)"
   ]
  },
  {
   "cell_type": "code",
   "execution_count": 39,
   "metadata": {},
   "outputs": [
    {
     "data": {
      "text/html": [
       "<div>\n",
       "<style scoped>\n",
       "    .dataframe tbody tr th:only-of-type {\n",
       "        vertical-align: middle;\n",
       "    }\n",
       "\n",
       "    .dataframe tbody tr th {\n",
       "        vertical-align: top;\n",
       "    }\n",
       "\n",
       "    .dataframe thead th {\n",
       "        text-align: right;\n",
       "    }\n",
       "</style>\n",
       "<table border=\"1\" class=\"dataframe\">\n",
       "  <thead>\n",
       "    <tr style=\"text-align: right;\">\n",
       "      <th></th>\n",
       "      <th>recent</th>\n",
       "      <th>count</th>\n",
       "      <th>spent</th>\n",
       "      <th>R_Quartile</th>\n",
       "      <th>F_Quartile</th>\n",
       "      <th>M_Quartile</th>\n",
       "      <th>RCSClass</th>\n",
       "    </tr>\n",
       "    <tr>\n",
       "      <th>Customer_ID</th>\n",
       "      <th></th>\n",
       "      <th></th>\n",
       "      <th></th>\n",
       "      <th></th>\n",
       "      <th></th>\n",
       "      <th></th>\n",
       "      <th></th>\n",
       "    </tr>\n",
       "  </thead>\n",
       "  <tbody>\n",
       "    <tr>\n",
       "      <th>5496</th>\n",
       "      <td>152.0</td>\n",
       "      <td>4</td>\n",
       "      <td>176688</td>\n",
       "      <td>1</td>\n",
       "      <td>1</td>\n",
       "      <td>1</td>\n",
       "      <td>111</td>\n",
       "    </tr>\n",
       "    <tr>\n",
       "      <th>5497</th>\n",
       "      <td>121.0</td>\n",
       "      <td>3</td>\n",
       "      <td>248054</td>\n",
       "      <td>1</td>\n",
       "      <td>2</td>\n",
       "      <td>1</td>\n",
       "      <td>121</td>\n",
       "    </tr>\n",
       "    <tr>\n",
       "      <th>5498</th>\n",
       "      <td>91.0</td>\n",
       "      <td>2</td>\n",
       "      <td>166980</td>\n",
       "      <td>1</td>\n",
       "      <td>3</td>\n",
       "      <td>1</td>\n",
       "      <td>131</td>\n",
       "    </tr>\n",
       "    <tr>\n",
       "      <th>5499</th>\n",
       "      <td>60.0</td>\n",
       "      <td>1</td>\n",
       "      <td>227480</td>\n",
       "      <td>1</td>\n",
       "      <td>4</td>\n",
       "      <td>1</td>\n",
       "      <td>141</td>\n",
       "    </tr>\n",
       "    <tr>\n",
       "      <th>5500</th>\n",
       "      <td>30.0</td>\n",
       "      <td>2</td>\n",
       "      <td>125067</td>\n",
       "      <td>1</td>\n",
       "      <td>3</td>\n",
       "      <td>2</td>\n",
       "      <td>132</td>\n",
       "    </tr>\n",
       "  </tbody>\n",
       "</table>\n",
       "</div>"
      ],
      "text/plain": [
       "             recent  count   spent  R_Quartile  F_Quartile  M_Quartile  \\\n",
       "Customer_ID                                                              \n",
       "5496          152.0      4  176688           1           1           1   \n",
       "5497          121.0      3  248054           1           2           1   \n",
       "5498           91.0      2  166980           1           3           1   \n",
       "5499           60.0      1  227480           1           4           1   \n",
       "5500           30.0      2  125067           1           3           2   \n",
       "\n",
       "            RCSClass  \n",
       "Customer_ID           \n",
       "5496             111  \n",
       "5497             121  \n",
       "5498             131  \n",
       "5499             141  \n",
       "5500             132  "
      ]
     },
     "execution_count": 39,
     "metadata": {},
     "output_type": "execute_result"
    }
   ],
   "source": [
    "rfmTable.head()"
   ]
  },
  {
   "cell_type": "code",
   "execution_count": 44,
   "metadata": {},
   "outputs": [
    {
     "data": {
      "text/plain": [
       "<matplotlib.collections.PathCollection at 0x1a1beabd30>"
      ]
     },
     "execution_count": 44,
     "metadata": {},
     "output_type": "execute_result"
    },
    {
     "data": {
      "image/png": "[encoded data removed]",
      "text/plain": [
       "<Figure size 432x288 with 1 Axes>"
      ]
     },
     "metadata": {},
     "output_type": "display_data"
    }
   ],
   "source": [
    "f1 = rfmTable['recent'].values\n",
    "f2 = rfmTable['RCSClass'].values\n",
    "f3=rfmTable['spent'].values\n",
    "X = np.array(list(zip(f2,f3)))\n",
    "plt.scatter(f2,f3, c='black', s=7)"
   ]
  },
  {
   "cell_type": "code",
   "execution_count": 45,
   "metadata": {},
   "outputs": [],
   "source": [
    "def dist(a, b, ax=1):\n",
    "    return np.linalg.norm(a - b, axis=ax)"
   ]
  },
  {
   "cell_type": "code",
   "execution_count": 48,
   "metadata": {},
   "outputs": [],
   "source": [
    "from sklearn.cluster import KMeans\n",
    "\n",
    "# Number of clusters\n",
    "kmeans = KMeans(n_clusters=3)\n",
    "# Fitting the input data\n",
    "kmeans = kmeans.fit(X)\n",
    "# Getting the cluster labels\n",
    "labels = kmeans.predict(X)\n",
    "# Centroid values\n",
    "centroids = kmeans.cluster_centers_"
   ]
  },
  {
   "cell_type": "code",
   "execution_count": 49,
   "metadata": {},
   "outputs": [
    {
     "name": "stdout",
     "output_type": "stream",
     "text": [
      "[[  2.48370048e+02   7.49357145e+04]\n",
      " [  3.13081790e+02   1.31794487e+05]\n",
      " [  2.30326923e+02   2.48905918e+05]]\n"
     ]
    }
   ],
   "source": [
    "print(centroids) "
   ]
  },
  {
   "cell_type": "code",
   "execution_count": 52,
   "metadata": {},
   "outputs": [
    {
     "data": {
      "text/plain": [
       "<matplotlib.collections.PathCollection at 0x1136b7ba8>"
      ]
     },
     "execution_count": 52,
     "metadata": {},
     "output_type": "execute_result"
    },
    {
     "data": {
      "image/png": "[encoded data removed]",
      "text/plain": [
       "<Figure size 432x288 with 1 Axes>"
      ]
     },
     "metadata": {},
     "output_type": "display_data"
    }
   ],
   "source": [
    "plt.scatter(X[:,0], X[:,1], c=kmeans.labels_, cmap='rainbow')"
   ]
  },
  {
   "cell_type": "code",
   "execution_count": null,
   "metadata": {},
   "outputs": [],
   "source": []
  }
 ],
 "metadata": {
  "kernelspec": {
   "display_name": "Python 3",
   "language": "python",
   "name": "python3"
  },
  "language_info": {
   "codemirror_mode": {
    "name": "ipython",
    "version": 3
   },
   "file_extension": ".py",
   "mimetype": "text/x-python",
   "name": "python",
   "nbconvert_exporter": "python",
   "pygments_lexer": "ipython3",
   "version": "3.6.4"
  }
 },
 "nbformat": 4,
 "nbformat_minor": 2
}
